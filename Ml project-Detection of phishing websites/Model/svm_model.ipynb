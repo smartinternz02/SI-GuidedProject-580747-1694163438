{
  "nbformat": 4,
  "nbformat_minor": 0,
  "metadata": {
    "colab": {
      "provenance": []
    },
    "kernelspec": {
      "name": "python3",
      "display_name": "Python 3"
    },
    "language_info": {
      "name": "python"
    }
  },
  "cells": [
    {
      "cell_type": "code",
      "execution_count": null,
      "metadata": {
        "id": "I18CnWz0nwfb"
      },
      "outputs": [],
      "source": [
        "def SVM(X, y):\n",
        "    x=[a for a in range(1,10,2)]\n",
        "    svmtrain=[]\n",
        "    svmtest=[]\n",
        "    from sklearn.model_selection import train_test_split\n",
        "    X_train, X_test, y_train, y_test = train_test_split(X, y, test_size = 0.2, random_state = 42)\n",
        "    X_train.shape, y_train.shape, X_test.shape, y_test.shape\n",
        "    from sklearn.svm import SVC\n",
        "    for i in range(1,10,2):\n",
        "        svm = SVC(kernel='linear', C=i)\n",
        "        svm.fit(X_train, y_train)\n",
        "        y_train_svm = svm.predict(X_train)\n",
        "        y_test_svm = svm.predict(X_test)\n",
        "        acc_train_svm = metrics.accuracy_score(y_train, y_train_svm)\n",
        "        acc_test_svm = metrics.accuracy_score(y_test, y_test_svm)\n",
        "        print(\"SVM with C={}: Accuracy on training Data: {:.3f}\".format(i,acc_train_svm))\n",
        "        print(\"SVM with C={}: Accuracy on test Data: {:.3f}\".format(i,acc_test_svm))\n",
        "        svmtrain.append(acc_train_svm)\n",
        "        svmtest.append(acc_test_svm)\n",
        "        print()\n",
        "    import matplotlib.pyplot as plt\n",
        "    plt.plot(x,svmtrain,label=\"Train accuracy\")\n",
        "    plt.plot(x,svmtest,label=\"Test accuracy\")\n",
        "    plt.legend()\n",
        "    plt.show()"
      ]
    },
    {
      "cell_type": "code",
      "source": [
        "Xmain=X\n",
        "Xten=X[tenfeatures]\n",
        "Xtwen=X[twenfeatures]\n",
        "\n",
        "SVM(Xmain,y)"
      ],
      "metadata": {
        "id": "kTe1oIE0ow4e"
      },
      "execution_count": null,
      "outputs": []
    },
    {
      "cell_type": "code",
      "source": [
        "SVM(Xten,y)"
      ],
      "metadata": {
        "id": "kn1G6gpRoy5Y"
      },
      "execution_count": null,
      "outputs": []
    },
    {
      "cell_type": "code",
      "source": [
        "SVM(Xtwen,y)"
      ],
      "metadata": {
        "id": "eCYq6o_Ko0wk"
      },
      "execution_count": null,
      "outputs": []
    },
    {
      "cell_type": "code",
      "source": [
        "from sklearn.model_selection import train_test_split\n",
        "from sklearn.svm import SVC\n",
        "from sklearn import metrics\n",
        "\n",
        "\n",
        "X_train, X_test, y_train, y_test = train_test_split(X, y, test_size=0.2, random_state=42)\n",
        "\n",
        "svm = SVC(kernel='linear', C=1, random_state=42)\n",
        "svm.fit(X_train, y_train)\n",
        "\n",
        "\n",
        "y_train_svm = svm.predict(X_train)\n",
        "y_test_svm = svm.predict(X_test)\n",
        "\n",
        "\n",
        "acc_train_svm = metrics.accuracy_score(y_train, y_train_svm)\n",
        "acc_test_svm = metrics.accuracy_score(y_test, y_test_svm)\n",
        "\n",
        "f1_score_train_svm = metrics.f1_score(y_train, y_train_svm)\n",
        "f1_score_test_svm = metrics.f1_score(y_test, y_test_svm)\n",
        "\n",
        "precision_score_train_svm = metrics.precision_score(y_train, y_train_svm)\n",
        "precision_score_test_svm = metrics.precision_score(y_test, y_test_svm)\n",
        "\n",
        "print(\"SVM with C={}: Accuracy on training data: {:.3f}\".format(1, acc_train_svm))\n",
        "print(\"SVM with C={}: Accuracy on test data: {:.3f}\".format(1, acc_test_svm))\n",
        "print(\"SVM with C={}: F1 score on training data: {:.3f}\".format(1, f1_score_train_svm))\n",
        "print(\"SVM with C={}: F1 score on test data: {:.3f}\".format(1, f1_score_test_svm))\n",
        "print(\"SVM with C={}: Precision on training data: {:.3f}\".format(1, precision_score_train_svm))\n",
        "print(\"SVM with C={}: Precision on test data: {:.3f}\".format(1, precision_score_test_svm))\n",
        "\n"
      ],
      "metadata": {
        "id": "bY9mNU0ro2pw"
      },
      "execution_count": null,
      "outputs": []
    },
    {
      "cell_type": "code",
      "source": [
        "storeResults('Support Vector Machines',acc_test_svm,f1_score_test_svm,precision_score_train_svm)"
      ],
      "metadata": {
        "id": "eRCVgonqo47P"
      },
      "execution_count": null,
      "outputs": []
    }
  ]
}