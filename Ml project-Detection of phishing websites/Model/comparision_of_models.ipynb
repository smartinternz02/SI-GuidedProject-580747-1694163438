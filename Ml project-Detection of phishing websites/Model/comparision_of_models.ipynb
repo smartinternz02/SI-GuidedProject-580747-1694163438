{
  "nbformat": 4,
  "nbformat_minor": 0,
  "metadata": {
    "colab": {
      "provenance": []
    },
    "kernelspec": {
      "name": "python3",
      "display_name": "Python 3"
    },
    "language_info": {
      "name": "python"
    }
  },
  "cells": [
    {
      "cell_type": "code",
      "execution_count": null,
      "metadata": {
        "id": "ewsIcYE4pcOC"
      },
      "outputs": [],
      "source": [
        "df = pd.DataFrame({\n",
        "    'Modelname': ML_Model,\n",
        "    'Accuracy Score': accuracy,\n",
        "    'F1 Score': f1_score,\n",
        "    'Precision Score': precision\n",
        "})\n",
        "df.set_index('Modelname', inplace=True)\n",
        "\n",
        "# plot the scores for each model\n",
        "\n",
        "fig, ax = plt.subplots(figsize=(10,10))\n",
        "df.plot(kind='bar', ax=ax)\n",
        "ax.set_xticklabels(df.index, rotation=0)\n",
        "ax.set_ylim([0.9, 1])\n",
        "ax.set_yticks([0.9,0.91,0.92,0.93,0.94,0.95,0.96,0.97,0.98,0.99,1])\n",
        "ax.set_xlabel('Model')\n",
        "ax.set_ylabel('Score')\n",
        "ax.set_title('Model Scores')\n",
        "plt.show()\n"
      ]
    }
  ]
}